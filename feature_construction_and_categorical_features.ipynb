{
  "nbformat": 4,
  "nbformat_minor": 0,
  "metadata": {
    "kernelspec": {
      "name": "python3",
      "display_name": "Python 3",
      "language": "python"
    },
    "language_info": {
      "name": "python",
      "version": "3.7.6",
      "mimetype": "text/x-python",
      "codemirror_mode": {
        "name": "ipython",
        "version": 3
      },
      "pygments_lexer": "ipython3",
      "nbconvert_exporter": "python",
      "file_extension": ".py"
    },
    "colab": {
      "name": "feature-construction-and-categorical-features.ipynb",
      "provenance": [],
      "include_colab_link": true
    }
  },
  "cells": [
    {
      "cell_type": "markdown",
      "metadata": {
        "id": "view-in-github",
        "colab_type": "text"
      },
      "source": [
        "<a href=\"https://colab.research.google.com/github/Omarsawan/Feature-construction-and-Categorical-features-tutorial/blob/master/feature_construction_and_categorical_features.ipynb\" target=\"_parent\"><img src=\"https://colab.research.google.com/assets/colab-badge.svg\" alt=\"Open In Colab\"/></a>"
      ]
    },
    {
      "cell_type": "markdown",
      "metadata": {
        "id": "JGY-XyaIdxck",
        "colab_type": "text"
      },
      "source": [
        "# Introduction\n",
        "\n",
        "In this tutorial , We are going to talk about categorical features and using original features of the data set to construct new features. Often in a data set, the given set of features in their raw form do not provide enough, or the most optimal, information to train a good performant model. In some cases model performance may be improved if we transform one or more features into a different representation to provide better information to the model , this is known as feature construction ."
      ]
    },
    {
      "cell_type": "markdown",
      "metadata": {
        "id": "Rwq9mupLyIIn",
        "colab_type": "text"
      },
      "source": [
        "# Categorical features\n",
        "\n",
        "A categorical feature takes only a limited number of values , it doesn't have continous values .A categorical variable can take on one of a limited, and usually fixed, number of possible values, assigning each individual or other unit of observation to a particular group or category. \n",
        "Consider a survey that asks how often you eat breakfast and provides four options: \"Never\", \"Rarely\", \"Most days\", or \"Every day\". In this case, the data is categorical, because responses fall into a fixed set of categories.\n",
        "If people responded to a survey about which brand of car they owned, the responses would fall into categories like \"Honda\", \"Toyota\", and \"Ford\". In this case, the data is also categorical."
      ]
    },
    {
      "cell_type": "markdown",
      "metadata": {
        "id": "504cimCdwYy_",
        "colab_type": "text"
      },
      "source": [
        "# Types of categorical features\n",
        "\n",
        "We can classify the categorical features into two types , ordinal features and nominal features ."
      ]
    },
    {
      "cell_type": "markdown",
      "metadata": {
        "id": "paU-wSqjwvvc",
        "colab_type": "text"
      },
      "source": [
        "### 1 - Ordinal features\n",
        "\n",
        "They are features which has values can be ordered , like asking about the frequency of doing something , the answer would be one of the following :\n",
        "\"Never\" (0) < \"Rarely\" (1) < \"Most days\" (2) < \"Every day\" (3) .\n",
        "So this type of features have values that are classified into categories but can be ordered ."
      ]
    },
    {
      "cell_type": "markdown",
      "metadata": {
        "id": "9INB8mRIxqUo",
        "colab_type": "text"
      },
      "source": [
        "### 2 - Nominal features\n",
        "\n",
        "They are features which has values that fall into some categories but also can't be ordered or there is no relative order between the categories , like asking about car brands , and the possible categories are \"HONDA\" , \"FORD\" , \"TOYOTA\" , they fall into categories but we can't order them as they don't have an intrinsic ranking."
      ]
    },
    {
      "cell_type": "markdown",
      "metadata": {
        "id": "SbNl8KwGYCvh",
        "colab_type": "text"
      },
      "source": [
        "# Examples\n",
        "\n",
        "First I will import the data set to show examples about categorical features .\n",
        "Our dataset is a collections of some information about projects that are launched at specific date , at specific category and other features to predict the state of the project if it succeeded or failed or something else ."
      ]
    },
    {
      "cell_type": "code",
      "metadata": {
        "id": "kqoWTKfYOGWD",
        "trusted": true,
        "colab_type": "code",
        "colab": {}
      },
      "source": [
        "#import panda library to be able to load the dataset\n",
        "import pandas as pd\n",
        "#read the dataset\n",
        "data=pd.read_csv('https://raw.githubusercontent.com/Omarsawan/Feature-construction-and-Categorical-features-tutorial/master/data/ks-projects-201801.csv',parse_dates=['deadline', 'launched'], encoding='latin-1')\n",
        "#show the first 7 rows\n",
        "data.head(7)"
      ],
      "execution_count": null,
      "outputs": []
    },
    {
      "cell_type": "markdown",
      "metadata": {
        "id": "Zq4_sK0mYOpw",
        "colab_type": "text"
      },
      "source": [
        "So we can consider that categorical features are features with data type equal to object or date since we know that these data types don't have continuous values ."
      ]
    },
    {
      "cell_type": "code",
      "metadata": {
        "id": "2Wjk_rCfYlE5",
        "trusted": true,
        "colab_type": "code",
        "colab": {}
      },
      "source": [
        "#make a data series with index equal to the column name and the value of the index is whether this column is of type object\n",
        "indicesObjects=(data.dtypes=='object')\n",
        "#make a data series with index equal to the column name and the value of the index is whether this column is of type datetime\n",
        "indicesDate=(data.dtypes=='datetime64[ns]')\n",
        "\n",
        "#make a data series with columns that have true only\n",
        "objectColumns=indicesObjects[indicesObjects]\n",
        "dateColumns=indicesDate[indicesDate]\n",
        "\n",
        "#show only the index (which is the column name of categorical features)\n",
        "objectsList=list(objectColumns.index)\n",
        "datetimeList=list(dateColumns.index)\n",
        "\n",
        "categoricalFeatures=(objectsList+datetimeList)\n",
        "\n",
        "print('Columns with data type object: ',objectsList)\n",
        "print('Columns with data type datetime: ',datetimeList)\n",
        "print('Categorical features are',categoricalFeatures)\n",
        "print('Count of Categorical features is',len(categoricalFeatures))"
      ],
      "execution_count": null,
      "outputs": []
    },
    {
      "cell_type": "markdown",
      "metadata": {
        "id": "qHN-Y8ghiPpp",
        "colab_type": "text"
      },
      "source": [
        "So we can say that our dataset has 8 categorical features ."
      ]
    },
    {
      "cell_type": "markdown",
      "metadata": {
        "id": "lEjx6EYogoQE",
        "colab_type": "text"
      },
      "source": [
        "# Approaches to handle categorical features\n",
        "\n",
        "You will get an error if you try to plug these variables into most machine learning models in Python without preprocessing them first.So there are many approaches that you can use to prepare your categorical data ."
      ]
    },
    {
      "cell_type": "markdown",
      "metadata": {
        "id": "fEJHKFbOjLIl",
        "colab_type": "text"
      },
      "source": [
        "### 1 - Dropping features\n",
        "\n",
        "The first and easiest approach is to just remove this variables from the data set .This approach will only work well if the columns did not contain useful information."
      ]
    },
    {
      "cell_type": "code",
      "metadata": {
        "id": "NE_nWg5djOKK",
        "trusted": true,
        "colab_type": "code",
        "colab": {}
      },
      "source": [
        "dropCategorical=data.select_dtypes(exclude='object').select_dtypes(exclude='datetime64[ns]')\n",
        "dropCategorical.head(7)"
      ],
      "execution_count": null,
      "outputs": []
    },
    {
      "cell_type": "markdown",
      "metadata": {
        "id": "vEE0IMuGn8fi",
        "colab_type": "text"
      },
      "source": [
        "### 2 - Label encoding\n",
        "\n",
        "The second approach is Label encoding ,it assigns each unique value to a different integer.\n",
        "This approach assumes that the features that will be encoded are ordinal features.\n",
        "This assumption makes sense in some examples but other examples may not make sense , in our data set we can see that column 'name' caould be considered ordinal feature if we want to consider the values in lexicographically order . But the other features are nominal features so this method isn't suitable to encode them . So we will encode only column 'name' ."
      ]
    },
    {
      "cell_type": "markdown",
      "metadata": {
        "id": "KzGAotRJpFp2",
        "colab_type": "text"
      },
      "source": [
        "Scikit-learn has a LabelEncoder class that can be used to get label encodings. We apply the label encoder separately to each column."
      ]
    },
    {
      "cell_type": "code",
      "metadata": {
        "id": "EGmW3pD4o_NQ",
        "trusted": true,
        "colab_type": "code",
        "colab": {}
      },
      "source": [
        "from sklearn.preprocessing import LabelEncoder\n",
        "\n",
        "# Make copy to avoid changing original data \n",
        "label_data = data.copy()\n",
        "\n",
        "# Apply label encoder to column 'name'\n",
        "label_encoder = LabelEncoder()\n",
        "label_data['name'] = label_encoder.fit_transform(label_data['name'])\n",
        "label_data.head(7)"
      ],
      "execution_count": null,
      "outputs": []
    },
    {
      "cell_type": "markdown",
      "metadata": {
        "id": "ZpuLDdSYqXXK",
        "colab_type": "text"
      },
      "source": [
        "### 3 - One-Hot Encoding\n",
        "\n",
        "The third approach is to use One-Hot Encoding , it creates new columns indicating the presence (or absence) of each possible value in the original data. \n",
        "For example if we have a column color which has only 3 categories : (RED,YELLOW,BLUE) , it converts it into 3 columns and if some row has the value 'RED' , then its encoding will be (1,0,0) , and if another row has the value 'YELLOW' then its encoding will be (0,1,0).\n",
        "So  the corresponding one-hot encoding contains one column for each possible value, and one row for each row in the original dataset .\n",
        "\n",
        "In contrast to label encoding, one-hot encoding does not assume an ordering of the categories. Thus, you can expect this approach to work particularly well if there is no clear ordering in the categorical data (e.g., \"Red\" is neither more nor less than \"Yellow\"). So this method can work with nominal and ordinal variables.\n",
        "\n",
        "One-hot encoding generally does not perform well if the categorical variable takes on a large number of values (i.e., you generally won't use it for variables taking more than 15 different values).\n"
      ]
    },
    {
      "cell_type": "code",
      "metadata": {
        "id": "F4l-dyNBwE3q",
        "trusted": true,
        "colab_type": "code",
        "colab": {}
      },
      "source": [
        "#lets count the number of unique values in each column\n",
        "uniqueCount ={}\n",
        "for col in categoricalFeatures:\n",
        "    curCol=data.filter([col]).iloc[:,0]\n",
        "    uniqueCount[col]=len(curCol.unique())\n",
        "print(uniqueCount)"
      ],
      "execution_count": null,
      "outputs": []
    },
    {
      "cell_type": "markdown",
      "metadata": {
        "id": "3tdDcZla0_Ol",
        "colab_type": "text"
      },
      "source": [
        "So lets make one hot encoding only in columns state and currency to be able to visualize them."
      ]
    },
    {
      "cell_type": "code",
      "metadata": {
        "id": "BRopo0o0z1T6",
        "trusted": true,
        "colab_type": "code",
        "colab": {}
      },
      "source": [
        "from sklearn.preprocessing import OneHotEncoder\n",
        "\n",
        "cols=['state','currency']\n",
        "\n",
        "# Make copy to avoid changing original data \n",
        "OH_data = data.copy()\n",
        "\n",
        "# Apply one-hot encoder to the columns we have choosen\n",
        "OH_encoder = OneHotEncoder(handle_unknown='ignore', sparse=False)\n",
        "OH_cols = pd.DataFrame(OH_encoder.fit_transform(OH_data[cols]))\n",
        "\n",
        "# One-hot encoding removed index; put it back\n",
        "OH_cols.index = OH_data.index\n",
        "\n",
        "# Remove categorical columns (will be replaced with one-hot encoding)\n",
        "num_X = OH_data.drop(cols, axis=1)\n",
        "\n",
        "# Add one-hot encoded columns to numerical features\n",
        "OH_X = pd.concat([num_X, OH_cols], axis=1)\n",
        "\n",
        "OH_X.head(7)"
      ],
      "execution_count": null,
      "outputs": []
    },
    {
      "cell_type": "markdown",
      "metadata": {
        "id": "WepzsWG112mw",
        "colab_type": "text"
      },
      "source": [
        "The world is filled with categorical data. You will be a much more effective data scientist if you know how to use this common data type!"
      ]
    },
    {
      "cell_type": "markdown",
      "metadata": {
        "id": "I6BvomwU2EvJ",
        "colab_type": "text"
      },
      "source": [
        "# Feature construction\n",
        "\n",
        "Creating new features from the raw data is one of the best ways to improve your model , it can be done with the encoding methods which we introduced two of them and also can be done through different methods."
      ]
    },
    {
      "cell_type": "markdown",
      "metadata": {
        "id": "nTzQXGax2eZ2",
        "colab_type": "text"
      },
      "source": [
        "Lets consider our column 'launched' which is of timedate type , so instead of encoding it using different encoding methods , we can simply replace it with 4 columns which are the hour , day , month , year ."
      ]
    },
    {
      "cell_type": "code",
      "metadata": {
        "id": "LUrGlWR421f_",
        "trusted": true,
        "colab_type": "code",
        "colab": {}
      },
      "source": [
        "# Make copy to avoid changing original data \n",
        "data_copy = data.copy()\n",
        "\n",
        "#add the four columns\n",
        "data_copy=data_copy.assign(hour=data_copy.launched.dt.hour,\n",
        "                           day=data_copy.launched.dt.day,\n",
        "                           month=data_copy.launched.dt.month,\n",
        "                           year=data_copy.launched.dt.year)\n",
        "#remove the launched column\n",
        "data_copy=data_copy.drop(['launched'], axis=1)\n",
        "\n",
        "data_copy.head(7)"
      ],
      "execution_count": null,
      "outputs": []
    },
    {
      "cell_type": "markdown",
      "metadata": {
        "id": "3Fwm9zBK4TV8",
        "colab_type": "text"
      },
      "source": [
        "One of the easiest ways to create new features is by combining categorical variables. For example, if one record has the country \"CA\" and category \"Music\", you can create a new value \"CA_Music\". This is a new categorical feature that can provide information about correlations between categorical variables. This type of feature is typically called an interaction.\n",
        "In general, you would build interaction features from all pairs of categorical features. You can make interactions from three or more features as well, but you'll tend to get diminishing returns.\n",
        "\n",
        "Pandas lets us simply add string columns together like normal Python strings."
      ]
    },
    {
      "cell_type": "code",
      "metadata": {
        "id": "-wRqgOfz4bby",
        "trusted": true,
        "colab_type": "code",
        "colab": {}
      },
      "source": [
        "# Make copy to avoid changing original data \n",
        "data_copy = data.copy()\n",
        "#make new feature\n",
        "interactions = data['category'] + \"_\" + data['country']\n",
        "#give this new column a name\n",
        "interactions.name='category-country'\n",
        "#add the column to the data\n",
        "dataInteraction=pd.concat([interactions, data_copy], axis=1)\n",
        "\n",
        "#remove the category and country columns\n",
        "dataInteraction=dataInteraction.drop(['category','country'], axis=1)\n",
        "\n",
        "dataInteraction.head(7)"
      ],
      "execution_count": null,
      "outputs": []
    },
    {
      "cell_type": "markdown",
      "metadata": {
        "id": "eI_RW74d622a",
        "colab_type": "text"
      },
      "source": [
        "Also we can make a new feature only by observing our dataset and its initial features to make a new feature which can enhance our model performance, we can see in our dataset that we can make a new feature which is the count of the number of projects launched in the last week , maybe this count can affect our model and its performance , since we have the launched date of each project , we can count the number of projects launched in the last week."
      ]
    },
    {
      "cell_type": "code",
      "metadata": {
        "id": "bHZ6-IRf7icv",
        "trusted": true,
        "colab_type": "code",
        "colab": {}
      },
      "source": [
        "# First, create a Series with a timestamp index and the values in the series are the original index of rows\n",
        "# then sort it by the timestamp index\n",
        "launched = pd.Series(data.index, index=data.launched, name=\"count_last_week\").sort_index()\n",
        "launched.head(20)"
      ],
      "execution_count": null,
      "outputs": []
    },
    {
      "cell_type": "markdown",
      "metadata": {
        "id": "InnVIW_Y8FXO",
        "colab_type": "text"
      },
      "source": [
        "Using a time series as the index allows us to define the rolling window size in terms of hours, days, weeks , you can use .rolling() to select time periods as the window. For example launched.rolling('7d') creates a rolling window that contains all the data in the previous 7 days. The window contains the current record, so if we want to count all the previous projects but not the current one, we'll need to subtract 1."
      ]
    },
    {
      "cell_type": "code",
      "metadata": {
        "id": "ojavB6T48fRY",
        "trusted": true,
        "colab_type": "code",
        "colab": {}
      },
      "source": [
        "count_last_week = launched.rolling('7d').count() - 1\n",
        "count_last_week.head(20)"
      ],
      "execution_count": null,
      "outputs": []
    },
    {
      "cell_type": "code",
      "metadata": {
        "id": "R-GqgQMo8t2Y",
        "trusted": true,
        "colab_type": "code",
        "colab": {}
      },
      "source": [
        "#now that we have the counts, we need to adjust the index so we can join it with the other training data.\n",
        "count_last_week.index = launched.values\n",
        "count_last_week = count_last_week.reindex(data.index)\n",
        "count_last_week.head(20)"
      ],
      "execution_count": null,
      "outputs": []
    },
    {
      "cell_type": "code",
      "metadata": {
        "id": "TiDS_cEn9q83",
        "trusted": true,
        "colab_type": "code",
        "colab": {}
      },
      "source": [
        "#now join the new feature with the other data again using .join since we've matched the index.\n",
        "data.join(count_last_week).head(10)"
      ],
      "execution_count": null,
      "outputs": []
    },
    {
      "cell_type": "markdown",
      "metadata": {
        "id": "88IB67Mzyv9d",
        "colab_type": "text"
      },
      "source": [
        "Now we constructed a new feature ."
      ]
    }
  ]
}